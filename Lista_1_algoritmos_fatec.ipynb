{
  "nbformat": 4,
  "nbformat_minor": 0,
  "metadata": {
    "colab": {
      "provenance": [],
      "authorship_tag": "ABX9TyNfxn9LTgVWJ4J88f0Jq56F",
      "include_colab_link": true
    },
    "kernelspec": {
      "name": "python3",
      "display_name": "Python 3"
    },
    "language_info": {
      "name": "python"
    }
  },
  "cells": [
    {
      "cell_type": "markdown",
      "metadata": {
        "id": "view-in-github",
        "colab_type": "text"
      },
      "source": [
        "<a href=\"https://colab.research.google.com/github/aj1no/data_science_fatecjdi/blob/main/Lista_1_algoritmos_fatec.ipynb\" target=\"_parent\"><img src=\"https://colab.research.google.com/assets/colab-badge.svg\" alt=\"Open In Colab\"/></a>"
      ]
    },
    {
      "cell_type": "code",
      "execution_count": null,
      "metadata": {
        "id": "ul0zYSmoF4dV"
      },
      "outputs": [],
      "source": []
    },
    {
      "cell_type": "markdown",
      "source": [
        "#01\n",
        "Desenvolver um fluxograma e um programa em Python que leia a base e a altura\n",
        "de um triângulo e exiba sua área. AREA=BASE*ALTURA"
      ],
      "metadata": {
        "id": "BCD9hOiFF-B0"
      }
    },
    {
      "cell_type": "code",
      "source": [
        "base = float(input(\"Digite a base do triangulo: \"))\n",
        "altura = float(input(\"Digite a altura do triangulo: \"))\n",
        "area = ((base*altura)/2)\n",
        "area_for = \"{:.2f}\".format(area)\n",
        "print(area_for)\n",
        "\n"
      ],
      "metadata": {
        "id": "BuGEcaqHGEBT",
        "outputId": "b0782240-997f-40d0-84c3-5eab741890b5",
        "colab": {
          "base_uri": "https://localhost:8080/"
        }
      },
      "execution_count": null,
      "outputs": [
        {
          "output_type": "stream",
          "name": "stdout",
          "text": [
            "Digite a base do triangulo: 4\n",
            "Digite a altura do triangulo: 6\n",
            "12.00\n"
          ]
        }
      ]
    },
    {
      "cell_type": "markdown",
      "source": [
        "#2\n",
        "Desenvolver um fluxograma e um programa em Python para determinar o\n",
        "consumo médio de um automóvel sendo fornecida a distância total percorrida\n",
        "pelo automóvel e o total de combustível gasto.\n",
        "CONSUMO=DITANCIA_PERCORRIDA/COMBUSTIVEL_GASTO"
      ],
      "metadata": {
        "id": "r-NjH_t6G2JC"
      }
    },
    {
      "cell_type": "code",
      "source": [
        "distancia = float(input(\"Digite a distancia percorrida em KM: \"))\n",
        "combustivel = float(input(\"Digite a quantidade de combustivel gasto em litros: \"))\n",
        "consumo = (distancia/combustivel)\n",
        "consumo_for = \"{:.2f}\".format(consumo)\n",
        "print(\"Consumo Medio: \", consumo_for,\"KM/L\")"
      ],
      "metadata": {
        "colab": {
          "base_uri": "https://localhost:8080/"
        },
        "id": "PEHACTKwG6-3",
        "outputId": "e1490b36-34e4-44d4-a084-8d9e7ad6d0fd"
      },
      "execution_count": null,
      "outputs": [
        {
          "output_type": "stream",
          "name": "stdout",
          "text": [
            "Digite a distancia percorrida em KM: 450\n",
            "Digite a quantidade de combustivel gasto em litros: 17\n",
            "Consumo Medio:  26.47 KM/L\n"
          ]
        }
      ]
    },
    {
      "cell_type": "markdown",
      "source": [
        "#3\n",
        "Desenvolver um fluxograma e um programa em Python que leia o nome de um\n",
        "aluno e as notas das três provas que ele obteve no semestre. No final, informar o\n",
        "nome do aluno e a sua média (aritmética)."
      ],
      "metadata": {
        "id": "GheSH-eaISYn"
      }
    },
    {
      "cell_type": "code",
      "source": [
        "nome = input(\"Digite o nome do aluno: \")\n",
        "nota_1 = float(input(\"Digite a primeira nota: \"))\n",
        "nota_2 = float(input(\"Digite a segunda nota: \"))\n",
        "nota_3 = float(input(\"Digite a terceira nota: \"))\n",
        "media = ((nota_1 + nota_2 + nota_3)/3)\n",
        "media_for = \"{:.2f}\".format(media)\n",
        "print(nome)\n",
        "print(media_for)"
      ],
      "metadata": {
        "colab": {
          "base_uri": "https://localhost:8080/"
        },
        "id": "2ssLuskQIUWp",
        "outputId": "802a6078-6a18-4941-df92-06033bf90452"
      },
      "execution_count": null,
      "outputs": [
        {
          "output_type": "stream",
          "name": "stdout",
          "text": [
            "Digite o nome do aluno: Rodolfo\n",
            "Digite a primeira nota: 10\n",
            "Digite a segunda nota: 4.5\n",
            "Digite a terceira nota: 2\n",
            "Rodolfo\n",
            "5.50\n"
          ]
        }
      ]
    },
    {
      "cell_type": "markdown",
      "source": [
        "#4\n",
        "Desenvolver um fluxograma e um programa em Python que receba o nome e a\n",
        "idade de uma pessoa. Calcule essa idade em meses, dias e horas. Mostre o nome\n",
        "e a idade em meses, dias e horas."
      ],
      "metadata": {
        "id": "_hjR4EWnJVZY"
      }
    },
    {
      "cell_type": "code",
      "source": [
        "nome = input(\"Digite seu nome: \")\n",
        "idade = float(input(\"Digite sua idade: \"))\n",
        "meses = (idade*12)\n",
        "dias = (idade*365)\n",
        "horas = (dias*24)\n",
        "print(nome)\n",
        "print(idade, \"Anos\", \"que é igual há\", meses, \"Meses, ou\", dias, \"Dias, ou\", horas,\"Horas!\")"
      ],
      "metadata": {
        "colab": {
          "base_uri": "https://localhost:8080/"
        },
        "id": "HqjJQN48JbbH",
        "outputId": "ebb671ad-f0e1-4077-eb58-2525895c4f8b"
      },
      "execution_count": null,
      "outputs": [
        {
          "output_type": "stream",
          "name": "stdout",
          "text": [
            "Digite seu nome: Rodolfo\n",
            "Digite sua idade: 33\n",
            "Rodolfo\n",
            "33.0 Anos que é igual há 396.0 Meses, ou 12045.0 Dias, ou 289080.0 Horas!\n"
          ]
        }
      ]
    },
    {
      "cell_type": "markdown",
      "source": [
        "#5\n",
        "Desenvolver um fluxograma e um programa em Python que leia o nome de um\n",
        "vendedor, o seu salário fixo e o total de vendas efetuadas por ele no mês (em\n",
        "dinheiro). Sabendo que este vendedor ganha 15% de comissão sobre suas\n",
        "vendas efetuadas, informar o seu nome, o salário fixo, o valor da comissão e\n",
        "salário no final do mês."
      ],
      "metadata": {
        "id": "nKUJNniNLtFM"
      }
    },
    {
      "cell_type": "code",
      "source": [
        "\n",
        "nome = input(\"Digite o nome do vendedor: \")\n",
        "salario_fixo = float(input(\"Digite o salário fixo do vendedor: R$ \"))\n",
        "total_vendas = float(input(\"Digite o total de vendas efetuadas: R$ \"))\n",
        "comissao = total_vendas * 0.15\n",
        "salario_final = salario_fixo + comissao\n",
        "\n",
        "salario_fixo_for = \"{:.2f}\".format(salario_fixo)\n",
        "comissao_for = \"{:.2f}\".format(comissao)\n",
        "salario_final_for = \"{:.2f}\".format(salario_final)\n",
        "\n",
        "print(nome)\n",
        "print(\"Salário fixo: R$\", salario_fixo_for)\n",
        "print(\"Comissão: R$\", comissao_for)\n",
        "print(\"Salário final: R$\", salario_final_for)\n",
        "\n"
      ],
      "metadata": {
        "colab": {
          "base_uri": "https://localhost:8080/"
        },
        "id": "Wbelo_maLzVU",
        "outputId": "d80e0fc7-23c0-4fc5-a946-eca681a5a220"
      },
      "execution_count": null,
      "outputs": [
        {
          "output_type": "stream",
          "name": "stdout",
          "text": [
            "Digite o nome do vendedor: Rodolfo\n",
            "Digite o salário fixo do vendedor: R$ 1599.99\n",
            "Digite o total de vendas efetuadas: R$ 150000.00\n",
            "Rodolfo\n",
            "Salário fixo: R$ 1599.99\n",
            "Comissão: R$ 22500.00\n",
            "Salário final: R$ 24099.99\n"
          ]
        }
      ]
    },
    {
      "cell_type": "markdown",
      "source": [
        "#6\n",
        "Desenvolver um fluxograma e um programa em Python para ler uma\n",
        "temperatura em graus Celsius e apresentá-la convertida em graus Fahrenheit. A\n",
        "fórmula de conversão é: F= 9*C/ 5 +32, sendo F a temperatura em Fahrenheit e\n",
        "C a temperatura em Celsius. Ao final exibir as duas temperaturas"
      ],
      "metadata": {
        "id": "pSk0KbASlEue"
      }
    },
    {
      "cell_type": "code",
      "source": [
        "celsius = float(input(\"Digite a temperatura em graus Celsius: \"))\n",
        "fahrenheit = (9*celsius/5)+32\n",
        "celsius_for = \"{:.2f}\".format(celsius)\n",
        "fahrenheit_for = \"{:.2f}\".format(fahrenheit)\n",
        "print(celsius_for, \"°C é igual a\", fahrenheit_for, \"°F\")\n"
      ],
      "metadata": {
        "colab": {
          "base_uri": "https://localhost:8080/"
        },
        "id": "IuL-IXEqlIdP",
        "outputId": "9712b9b5-0e28-4bca-86ef-f4947912f819"
      },
      "execution_count": null,
      "outputs": [
        {
          "output_type": "stream",
          "name": "stdout",
          "text": [
            "Digite a temperatura em graus Celsius: 56.52\n",
            "56.52 °C é igual a 133.74 °F\n"
          ]
        }
      ]
    },
    {
      "cell_type": "markdown",
      "source": [
        "#7\n",
        "Desenvolver um fluxograma e um programa em Python que efetue a\n",
        "apresentação do valor da conversão das moedas em dólar, euro e libra de um\n",
        "valor lido em real. O algoritmo deverá solicitar a quantidade de reais disponíveis,\n",
        "o valor de cada moeda e fazer as referidas cotaçõ\n"
      ],
      "metadata": {
        "id": "jGWX71KHl6yY"
      }
    },
    {
      "cell_type": "code",
      "source": [
        "real = float(input(\"Digite o valor em reais: \"))\n",
        "dolares = float(input(\"Digite o valor do dólar: \"))\n",
        "euros = float(input(\"Digite o valor do euro: \"))\n",
        "libras = float(input(\"Digite o valor da libra: \"))\n",
        "dolar = (real * dolares)\n",
        "euro = (real * euros)\n",
        "libra = (real * libras)\n",
        "print(\"O valor em reais é: \", real)\n",
        "print(\"O valor em dólares é: \", dolar)\n",
        "print(\"O valor em euros é: \", euro)\n",
        "print(\"O valor em libras é: \", libra)\n",
        "\n",
        "\n"
      ],
      "metadata": {
        "colab": {
          "base_uri": "https://localhost:8080/"
        },
        "id": "QTjt8iQTl_VI",
        "outputId": "27c6ea52-eabc-402f-a09f-bbae4e1327c9"
      },
      "execution_count": null,
      "outputs": [
        {
          "output_type": "stream",
          "name": "stdout",
          "text": [
            "Digite o valor em reais: 50\n",
            "Digite o valor do dólar: 100\n",
            "Digite o valor do euro: 20\n",
            "Digite o valor da libra: 1\n",
            "O valor em reais é:  50.0\n",
            "O valor em dólares é:  5000.0\n",
            "O valor em euros é:  1000.0\n",
            "O valor em libras é:  50.0\n"
          ]
        }
      ]
    },
    {
      "cell_type": "markdown",
      "source": [
        "#8\n",
        "Desenvolver um fluxograma e um programa em Python que receba um valor que\n",
        "foi depositado e exiba o valor com rendimento após um mês. Considere fixo o\n",
        "juro da poupança em 0,70%.\n"
      ],
      "metadata": {
        "id": "LvyDTXoqnW-E"
      }
    },
    {
      "cell_type": "code",
      "source": [
        "saldo = float(input(\"Digite o valor depositado: \"))\n",
        "juros = saldo * 0.007\n",
        "saldo_final = saldo + juros\n",
        "saldo_final_for = \"{:.2f}\".format(saldo_final)\n",
        "juros_for = \"{:.2f}\".format(juros)\n",
        "print(\"O valor do saldo final é: \", saldo_final_for)\n",
        "print(\"O valor dos juros no periodo é: \", juros_for)\n"
      ],
      "metadata": {
        "id": "UdXfWyj3nbXj"
      },
      "execution_count": null,
      "outputs": []
    },
    {
      "cell_type": "markdown",
      "source": [
        "#9\n",
        "Desenvolver um fluxograma e um programa em Python que receba o preço de\n",
        "custo de um produto e mostre o valor de venda. Sabe-se que o preço de custo\n",
        "receberá um acréscimo de acordo com um percentual informado pelo usuário"
      ],
      "metadata": {
        "id": "J7gX7pdFoOST"
      }
    },
    {
      "cell_type": "code",
      "source": [
        "preco = float(input(\"Digite o preço de custo do produto: \"))\n",
        "acrescimo = float(input(\"Digite o percentual de acréscimo: \"))\n",
        "venda = preco + (preco * (acrescimo/100))\n",
        "venda_for = \"{:.2f}\".format(venda)\n",
        "print(\"O valor de venda do produto é: \", venda_for)"
      ],
      "metadata": {
        "colab": {
          "base_uri": "https://localhost:8080/"
        },
        "id": "j3tBBTCYoWXs",
        "outputId": "56a09bc5-e26f-4fa9-bc75-30ad1dd0bb16"
      },
      "execution_count": null,
      "outputs": [
        {
          "output_type": "stream",
          "name": "stdout",
          "text": [
            "Digite o preço de custo do produto: 10\n",
            "Digite o percentual de acréscimo: 15\n",
            "O valor de venda do produto é:  11.50\n"
          ]
        }
      ]
    },
    {
      "cell_type": "markdown",
      "source": [
        "#10\n",
        "Desenvolver um fluxograma e um programa em Python que leia 3 valores A, B, C\n",
        "e exiba se é um triângulo Isóscele, Equilátero, Escaleno ou se não é triângulo.\n",
        "\n",
        "• É triângulo quando cada um dos lados for menor que a soma dos outros doi\n",
        "• É triângulo Equilátero quando todos os lados forem iguais;\n",
        "• É triângulo Escaleno quando todos os lados forem diferentes;\n",
        "• É triângulo Isósceles quando dois lados forem iguais e um diferente."
      ],
      "metadata": {
        "id": "kTkKHJDdpDE9"
      }
    },
    {
      "cell_type": "code",
      "source": [
        "a = float(input(\"Digite o valor do lado A: \"))\n",
        "b = float(input(\"Digite o valor do lado B: \"))\n",
        "c = float(input(\"Digite o valor do lado C: \"))\n",
        "\n",
        "def eh_triangulo(a, b, c):\n",
        "    return a < b + c and b < a + c and c < a + b\n",
        "\n",
        "def tipo_triangulo(a, b, c):\n",
        "    if a == b == c:\n",
        "        return \"Triângulo Equilátero\"\n",
        "    elif a != b and b != c and a != c:\n",
        "        return \"Triângulo Escaleno\"\n",
        "    else:\n",
        "        return \"Triângulo Isósceles\"\n",
        "\n",
        "if eh_triangulo(a, b, c):\n",
        "    print(tipo_triangulo(a, b, c))\n",
        "else:\n",
        "    print(\"Não é um triângulo\")\n"
      ],
      "metadata": {
        "colab": {
          "base_uri": "https://localhost:8080/"
        },
        "id": "jmwipMJT_YI7",
        "outputId": "a731b9b5-f6c8-4715-e874-5512b2efb548"
      },
      "execution_count": null,
      "outputs": [
        {
          "output_type": "stream",
          "name": "stdout",
          "text": [
            "Digite o valor do lado A: 10\n",
            "Digite o valor do lado B: 20\n",
            "Digite o valor do lado C: 10\n",
            "Não é um triângulo\n"
          ]
        }
      ]
    },
    {
      "cell_type": "markdown",
      "source": [
        "#11\n",
        "Desenvolver um fluxograma e um programa em Python que leia o número de\n",
        "lados de um polígono regular e a medida do lado (em cm). Calcular e imprimir o\n",
        "seguinte:\n",
        "• Se o número de lados for igual a 3 escrever TRIÂNGULO e o valor da área\n",
        "• Se o número de lados for igual a 4 escrever QUADRADO e o valor da sua área.\n",
        "• Se o número de lados for igual a 5 escrever PENTÁGONO.\n",
        "• Se número de lados for inferior a 3 escrever NÃO É UM POLÍGONO.\n",
        "\n",
        "• Se número de lados for superior a 5 escrever POLÍGONO NÃO IDENTIFICADO."
      ],
      "metadata": {
        "id": "Zn-6s7lwqhbj"
      }
    },
    {
      "cell_type": "code",
      "source": [
        "num_lados = int(input(\"Digite o número de lados do polígono: \"))\n",
        "medida_lado = float(input(\"Digite a medida do lado em cm : \"))\n",
        "\n",
        "\n",
        "if num_lados < 3:\n",
        "    print(\"NÃO É UM POLÍGONO\")\n",
        "elif num_lados == 3:\n",
        "\n",
        "    print(\"TRIÂNGULO\")\n",
        "\n",
        "elif num_lados == 4:\n",
        "\n",
        "    print(\"QUADRADO\")\n",
        "\n",
        "elif num_lados == 5:\n",
        "    print(\"PENTÁGONO\")\n",
        "\n",
        "else:\n",
        "    print(\"POLÍGONO NÃO IDENTIFICADO\")"
      ],
      "metadata": {
        "colab": {
          "base_uri": "https://localhost:8080/"
        },
        "id": "Yg19gjzgVNoH",
        "outputId": "51d714b8-d08d-4354-f0ed-c72b14d82c41"
      },
      "execution_count": null,
      "outputs": [
        {
          "output_type": "stream",
          "name": "stdout",
          "text": [
            "Digite o número de lados do polígono: 2\n",
            "Digite a medida do lado (em cm): 2\n",
            "NÃO É UM POLÍGONO\n"
          ]
        }
      ]
    },
    {
      "cell_type": "markdown",
      "source": [
        "#12\n",
        "Desenvolver um fluxograma e um programa em Python que leia a altura e peso\n",
        "de uma pessoa e calcule o IMC. O índice de massa corpórea (IMC) pode ser\n",
        "obtido pela fórmula: peso / (altura2).\n",
        "• imc < 18.5, escrever “MAGRO”,\n",
        "• imc >= 18.5 e imc < 25, escrever “NORMA!”\n",
        "• imc >= 25 e imc < 30, escrever \"SOBREPESO”\n",
        "• imc >=30 e imc < 40, escrever “OBESO!”\n",
        "• imc >= 30, escrever \"OBESO MORBIDO”\n"
      ],
      "metadata": {
        "id": "xLb-nbcksPJc"
      }
    },
    {
      "cell_type": "code",
      "source": [
        "altura = float(input(\"Digite a altura (em metros): \"))\n",
        "peso = float(input(\"Digite o peso (em kg): \"))\n",
        "imc = peso / (altura ** 2)\n",
        "if imc <= 18.5:\n",
        "    print(\"Abaixo do peso\")\n",
        "elif 18.5 < imc <= 24.9:\n",
        "    print(\"Peso normal\")\n",
        "elif 25 <= imc <= 29.9:\n",
        "    print(\"Sobrepeso\")\n",
        "elif 30 <= imc <= 39.9:\n",
        "    print(\"Obesidade\")\n",
        "else:\n",
        "    print(\"Obesidade mórbida\")\n",
        "print(f\"Seu IMC é: {imc:.2f}\")\n"
      ],
      "metadata": {
        "colab": {
          "base_uri": "https://localhost:8080/"
        },
        "id": "Sro5slCdsdVR",
        "outputId": "740ecbef-5a6f-4988-de54-cbf1e9914ba7"
      },
      "execution_count": null,
      "outputs": [
        {
          "output_type": "stream",
          "name": "stdout",
          "text": [
            "Digite a altura (em metros): 1.80\n",
            "Digite o peso (em kg): 95\n",
            "Sobrepeso\n",
            "Seu IMC é: 29.32\n"
          ]
        }
      ]
    },
    {
      "cell_type": "markdown",
      "source": [
        "#13\n",
        "Desenvolver um fluxograma e um programa em Python que, dada a idade de um\n",
        "nadador. Classifique-o em uma das seguintes categorias:\n",
        "• Infantil A = 5 - 7 anos\n",
        "• Infantil B = 8 - 10 anos\n",
        "• Juvenil A = 11- 13 anos\n",
        "• Juvenil B = 14 - 17 anos\n",
        "• Sênior = 18 - 25 anos"
      ],
      "metadata": {
        "id": "fwtj6E2it8mL"
      }
    },
    {
      "cell_type": "code",
      "source": [
        "idade = float(input(\"Digite a idade do nadador: \"))\n",
        "\n",
        "if idade <= 9:\n",
        "    print(\"Classificação: Mirim\")\n",
        "elif idade <= 14:\n",
        "    print(\"Classificação: Infantil\")\n",
        "elif idade <= 17:\n",
        "    print(\"Classificação: Juvenil\")\n",
        "elif idade <= 19:\n",
        "    print(\"Classificação: Juvenil B\")\n",
        "elif idade <= 25:\n",
        "    print(\"Classificação: Sênior\")\n",
        "else:\n",
        "    print(\"Idade fora da faixa etária\")\n",
        "\n",
        "print(\"A idade do nadador é:\", idade, \"anos\")"
      ],
      "metadata": {
        "id": "SGKLTRtZSsQ0",
        "colab": {
          "base_uri": "https://localhost:8080/"
        },
        "outputId": "098945a8-c601-4f5d-8fd8-fce4dda0e6c5"
      },
      "execution_count": null,
      "outputs": [
        {
          "output_type": "stream",
          "name": "stdout",
          "text": [
            "Digite a idade do nadador: 23\n",
            "Classificação: Sênior\n",
            "A idade do nadador é: 23.0 anos\n"
          ]
        }
      ]
    },
    {
      "cell_type": "markdown",
      "source": [],
      "metadata": {
        "id": "Gv-E3PxBvMLo"
      }
    },
    {
      "cell_type": "markdown",
      "source": [
        "#14\n",
        "Desenvolver um fluxograma e um programa em Python que leia o nome e as três\n",
        "notas obtidas por um aluno durante o semestre. Calcular a sua média\n",
        "(aritmética), informar o nome e sua menção aprovado (media >= 7), Reprovado\n",
        "(media <= 5) e Recuperação (media entre 5.1 a 6.9)."
      ],
      "metadata": {
        "id": "ypUxPNS_vsYx"
      }
    },
    {
      "cell_type": "code",
      "source": [
        "nome = input(\"Digite o nome do aluno: \")\n",
        "nota_1 = float(input(\"Digite a primeira nota: \"))\n",
        "nota_2 = float(input(\"Digite a segunda nota: \"))\n",
        "nota_3 = float(input(\"Digite a terceira nota: \"))\n",
        "media = (nota_1 + nota_2 + nota_3) / 3\n",
        "\n",
        "if media >= 7:\n",
        "    mencao = \"Aprovado\"\n",
        "elif 5.1 <= media <=6.9 :\n",
        "    mencao = \"Recuperação\"\n",
        "elif media <= 5:\n",
        "    mencao = \"Reprovado\"\n",
        "\n",
        "print(\"Nome:\", nome)\n",
        "print(\"Média:\", media)\n",
        "print(\"Menção:\", mencao)"
      ],
      "metadata": {
        "colab": {
          "base_uri": "https://localhost:8080/"
        },
        "id": "IMlxlN2TSk7z",
        "outputId": "7f304cc4-6df2-449e-b56e-8ea4c1b990bf"
      },
      "execution_count": null,
      "outputs": [
        {
          "output_type": "stream",
          "name": "stdout",
          "text": [
            "Digite o nome do aluno: Rodolfo \n",
            "Digite a primeira nota: 100\n",
            "Digite a segunda nota: 23\n",
            "Digite a terceira nota: 1\n",
            "Nome: Rodolfo \n",
            "Média: 41.333333333333336\n",
            "Menção: Aprovado\n"
          ]
        }
      ]
    }
  ]
}