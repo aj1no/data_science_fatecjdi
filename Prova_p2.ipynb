{
  "nbformat": 4,
  "nbformat_minor": 0,
  "metadata": {
    "colab": {
      "provenance": [],
      "authorship_tag": "ABX9TyMKVqAv3yTDiQ28I5WLwbYf",
      "include_colab_link": true
    },
    "kernelspec": {
      "name": "python3",
      "display_name": "Python 3"
    },
    "language_info": {
      "name": "python"
    }
  },
  "cells": [
    {
      "cell_type": "markdown",
      "metadata": {
        "id": "view-in-github",
        "colab_type": "text"
      },
      "source": [
        "<a href=\"https://colab.research.google.com/github/aj1no/data_science_fatecjdi/blob/main/Prova_p2.ipynb\" target=\"_parent\"><img src=\"https://colab.research.google.com/assets/colab-badge.svg\" alt=\"Open In Colab\"/></a>"
      ]
    },
    {
      "cell_type": "code",
      "execution_count": null,
      "metadata": {
        "id": "y4jpgztp_-bm"
      },
      "outputs": [],
      "source": []
    },
    {
      "cell_type": "markdown",
      "source": [
        "#01\n",
        "Escreva um programa em Python que solicite ao usuário um número inteiro positivo n.\n",
        "O programa deve então calcular e exibir a soma de todos os números pares de 1 até n.\n",
        "\n",
        "\n"
      ],
      "metadata": {
        "id": "pQOsOv56ACO3"
      }
    },
    {
      "cell_type": "code",
      "source": [
        "num_1 = int(input(\"Digite um número inteiro positivo: \"))\n",
        "\n",
        "soma = 0\n",
        "\n",
        "for i in range(2, num_1 + 1, 2):\n",
        "    soma += i\n",
        "\n",
        "print(f\"A soma dos números pares de 1 até {num_1} é: {soma}\")\n",
        "\n"
      ],
      "metadata": {
        "colab": {
          "base_uri": "https://localhost:8080/"
        },
        "id": "CXe6Z4_EAyWo",
        "outputId": "8f249188-5e44-4747-8440-3c2fe237e270"
      },
      "execution_count": null,
      "outputs": [
        {
          "output_type": "stream",
          "name": "stdout",
          "text": [
            "Digite um número inteiro positivo: 10\n",
            "A soma dos números pares de 1 até 10 é: 30\n"
          ]
        }
      ]
    },
    {
      "cell_type": "markdown",
      "source": [
        "#02\n",
        "\n",
        "Dado um número inteiro positivo n, determine quantos números inteiros positivos menores\n",
        "que n são divisíveis por 3 ou por 5. Por exemplo, se n = 10, os números menores que 10 e\n",
        "divisíveis por 3 ou por 5 são 3, 5, 6 e 9.\n"
      ],
      "metadata": {
        "id": "AV70TZMqCvA4"
      }
    },
    {
      "cell_type": "code",
      "source": [
        "num_1 = int(input(\"Digite um número inteiro positivo: \"))\n",
        "\n",
        "divisiveis_1 = []\n",
        "\n",
        "num_2 = 0\n",
        "\n",
        "for i in range(1, num_1):\n",
        "    if i % 3 == 0 or i % 5 == 0:\n",
        "        divisiveis_1.append(i)\n",
        "        num_2 += 1\n",
        "\n",
        "print(f\"Existem {num_2} números inteiros positivos menores que {num_1} que são divisíveis por 3 ou por 5, e eles são: {divisiveis_1}\")\n"
      ],
      "metadata": {
        "colab": {
          "base_uri": "https://localhost:8080/"
        },
        "id": "WkYSQAnzC7rf",
        "outputId": "4ddd397b-474f-42ad-fdbf-b13120e6c217"
      },
      "execution_count": null,
      "outputs": [
        {
          "output_type": "stream",
          "name": "stdout",
          "text": [
            "Digite um número inteiro positivo: 10\n",
            "Existem 4 números inteiros positivos menores que 10 que são divisíveis por 3 ou por 5, e eles são: [3, 5, 6, 9]\n"
          ]
        }
      ]
    },
    {
      "cell_type": "markdown",
      "source": [
        "#03\n",
        "\n",
        "Chico tem 1,50 metros e cresce 2 centímetros por ano, enquanto Zé tem 1,10 metros e cresce\n",
        "3 centímetros por ano. Construa um programa que calcule e imprima quantos anos serão\n",
        "necessários para que Zé seja maior que Chico."
      ],
      "metadata": {
        "id": "3n2hdmyRF1eb"
      }
    },
    {
      "cell_type": "code",
      "source": [
        "chico_alt = 150\n",
        "\n",
        "ze_alt = 110\n",
        "\n",
        "chico_cre = 2\n",
        "\n",
        "ze_cre = 3\n",
        "\n",
        "anos = 0\n",
        "\n",
        "while ze_alt <= chico_alt:\n",
        "    chico_alt += chico_cre\n",
        "    ze_alt += ze_cre\n",
        "    anos += 1\n",
        "\n",
        "print(f\"Serão necessários {anos} anos para que Zé seja maior que Chico.\")"
      ],
      "metadata": {
        "colab": {
          "base_uri": "https://localhost:8080/"
        },
        "id": "3uSKJYGHF6Xm",
        "outputId": "c3856f2b-17bf-412b-dc55-8dcf2f914c5e"
      },
      "execution_count": null,
      "outputs": [
        {
          "output_type": "stream",
          "name": "stdout",
          "text": [
            "Serão necessários 41 anos para que Zé seja maior que Chico.\n"
          ]
        }
      ]
    },
    {
      "cell_type": "markdown",
      "source": [
        "#04\n",
        "\n",
        "O Departamento de Trânsito do Estado anotou dados de acidentes de trânsito no último ano.\n",
        "\n",
        "Para cada motorista envolvido no acidente, têm-se as seguintes informações:\n",
        "\n",
        "• Ano de nascimento;\n",
        "\n",
        "• Sexo (M – masculino e F- feminino);\n",
        "\n",
        "• Procedência (0 – Capital, 1 – Interior, 2 – Outros estados);\n",
        "\n",
        "Perguntar se deseja digitar novos dados.\n",
        "\n",
        "Faça um programa em Python que calcule e exiba:\n",
        "\n",
        "• A porcentagem de motoristas com menos de 21 anos.\n",
        "\n",
        "• Quantas mulheres são da capital.\n",
        "\n",
        "• Quantos motoristas do interior tem idade maior que 60 anos.\n",
        "\n",
        "• Verifique se existe alguma mulher com idade maior que 60 anos."
      ],
      "metadata": {
        "id": "wTZH-vx4IBOJ"
      }
    },
    {
      "cell_type": "code",
      "source": [
        "total_motoristas = 0\n",
        "motoristas_menor_21 = 0\n",
        "mulheres_capital = 0\n",
        "motoristas_interior_maior_60 = 0\n",
        "mulheres_maior_60 = False\n",
        "\n",
        "while True:\n",
        "    ano_nascimento = int(input(\"Digite o ano de nascimento do motorista: \"))\n",
        "    sexo = input(\"Digite o sexo (M - Masculino, F - Feminino): \").upper()\n",
        "    procedencia = int(input(\"Digite a procedência (0 - Capital, 1 - Interior, 2 - Outros estados): \"))\n",
        "\n",
        "    idade = 2024 - ano_nascimento\n",
        "\n",
        "    total_motoristas += 1\n",
        "\n",
        "    if idade < 21:\n",
        "        motoristas_menor_21 += 1\n",
        "\n",
        "    if sexo == 'F' and procedencia == 0:\n",
        "        mulheres_capital += 1\n",
        "\n",
        "    if procedencia == 1 and idade > 60:\n",
        "        motoristas_interior_maior_60 += 1\n",
        "\n",
        "    if sexo == 'F' and idade > 60:\n",
        "        mulheres_maior_60 = True\n",
        "\n",
        "\n",
        "\n",
        "    while True:\n",
        "        continuar = input(\"Deseja digitar novos dados? (S - Sim, N - Não): \").upper()\n",
        "        if continuar == 'S' or continuar == 'N':\n",
        "            break\n",
        "        else:\n",
        "            print(\"Resposta inválida! Por favor, digite 'S' para Sim ou 'N' para Não.\")\n",
        "\n",
        "    if continuar != 'S':\n",
        "        break\n",
        "\n",
        "\n",
        "porcentagem_menor_21 = (motoristas_menor_21 / total_motoristas) * 100 if total_motoristas > 0 else 0\n",
        "\n",
        "print(\"\\nResultados:\")\n",
        "print(f\"Porcentagem de motoristas com menos de 21 anos: {porcentagem_menor_21:.2f}%\")\n",
        "print(f\"Quantas mulheres são da capital: {mulheres_capital}\")\n",
        "print(f\"Quantos motoristas do interior têm idade maior que 60 anos: {motoristas_interior_maior_60}\")\n",
        "print(f\"Existe alguma mulher com idade maior que 60 anos? {'Sim' if mulheres_maior_60 else 'Não'}\")"
      ],
      "metadata": {
        "colab": {
          "base_uri": "https://localhost:8080/"
        },
        "id": "LatwVkg8LTq1",
        "outputId": "1002efea-5f77-4f7c-c4ac-e4a7f33b7bff"
      },
      "execution_count": null,
      "outputs": [
        {
          "output_type": "stream",
          "name": "stdout",
          "text": [
            "Digite o ano de nascimento do motorista: 2009\n",
            "Digite o sexo (M - Masculino, F - Feminino): F\n",
            "Digite a procedência (0 - Capital, 1 - Interior, 2 - Outros estados): 1\n",
            "Deseja digitar novos dados? (S - Sim, N - Não): S\n",
            "Digite o ano de nascimento do motorista: 2008\n",
            "Digite o sexo (M - Masculino, F - Feminino): M\n",
            "Digite a procedência (0 - Capital, 1 - Interior, 2 - Outros estados): 0\n",
            "Deseja digitar novos dados? (S - Sim, N - Não): 1956\n",
            "Resposta inválida! Por favor, digite 'S' para Sim ou 'N' para Não.\n",
            "Deseja digitar novos dados? (S - Sim, N - Não): s\n",
            "Digite o ano de nascimento do motorista: 1956\n",
            "Digite o sexo (M - Masculino, F - Feminino): m\n",
            "Digite a procedência (0 - Capital, 1 - Interior, 2 - Outros estados): 0\n",
            "Deseja digitar novos dados? (S - Sim, N - Não): n\n",
            "\n",
            "Resultados:\n",
            "Porcentagem de motoristas com menos de 21 anos: 66.67%\n",
            "Quantas mulheres são da capital: 0\n",
            "Quantos motoristas do interior têm idade maior que 60 anos: 0\n",
            "Existe alguma mulher com idade maior que 60 anos? Não\n"
          ]
        }
      ]
    }
  ]
}