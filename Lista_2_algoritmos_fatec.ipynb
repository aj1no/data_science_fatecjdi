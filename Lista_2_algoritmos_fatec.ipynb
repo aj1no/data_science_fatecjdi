{
  "nbformat": 4,
  "nbformat_minor": 0,
  "metadata": {
    "colab": {
      "provenance": [],
      "authorship_tag": "ABX9TyON0gxlwd8mSatJguVeTj7u",
      "include_colab_link": true
    },
    "kernelspec": {
      "name": "python3",
      "display_name": "Python 3"
    },
    "language_info": {
      "name": "python"
    }
  },
  "cells": [
    {
      "cell_type": "markdown",
      "metadata": {
        "id": "view-in-github",
        "colab_type": "text"
      },
      "source": [
        "<a href=\"https://colab.research.google.com/github/aj1no/data_science_fatecjdi/blob/main/Lista_2_algoritmos_fatec.ipynb\" target=\"_parent\"><img src=\"https://colab.research.google.com/assets/colab-badge.svg\" alt=\"Open In Colab\"/></a>"
      ]
    },
    {
      "cell_type": "markdown",
      "source": [
        "#01\n",
        "\n",
        "\n",
        "Uma empresa quer verificar se um empregado está qualificado para a\n",
        "aposentadoria ou não. Para estar em condições, o empregado deve ter no\n",
        "mínimo 60 anos e ter trabalhado no mínimo 25 anos. Desenvolva o programa\n",
        "onde o usuário insira a idade e o tempo de trabalho e o programa informa com\n",
        "uma mensagem na tela se o usuário está qualificado para aposentadoria ou não."
      ],
      "metadata": {
        "id": "UDb5HA7M3go6"
      }
    },
    {
      "cell_type": "code",
      "source": [
        "idade = int(input(\"Digite sua idade: \"))\n",
        "tempo_de_trabalho = int(input(\"Digite seu tempo de trabalho: \"))\n",
        "if idade >= 60 and tempo_de_trabalho >= 25:\n",
        "  print(\"Você está qualificado para aposentadoria\")\n",
        "else:\n",
        "  print(\"Você não está qualificado para aposentadoria\")\n",
        "#\n"
      ],
      "metadata": {
        "colab": {
          "base_uri": "https://localhost:8080/"
        },
        "id": "4DcD-3ix3kvS",
        "outputId": "f5f8b166-36ad-4631-ea13-920d9742f3b5"
      },
      "execution_count": null,
      "outputs": [
        {
          "output_type": "stream",
          "name": "stdout",
          "text": [
            "Digite sua idade: 34\n",
            "Digite seu tempo de trabalho: 15\n",
            "Você não está qualificado para aposentadoria\n"
          ]
        }
      ]
    },
    {
      "cell_type": "markdown",
      "source": [
        "#02\n",
        "\n",
        "Faça um programa para verificar a situação de um aluno entre “recuperação”,\n",
        "“aprovado” e “reprovado”. O aluno possui 4 notas, e se sua média for entre 6.1 e\n",
        "6.9 o aluno está de recuperação. Média abaixo de 6.1 o aluno está reprovado.\n",
        "Média acima de 6.9 o aluno está aprovado."
      ],
      "metadata": {
        "id": "09xiBkOK4C1J"
      }
    },
    {
      "cell_type": "code",
      "source": [
        "nota_1 = float(input(\"Digite a primeira nota: \"))\n",
        "nota_2 = float(input(\"Digite a segunda nota: \"))\n",
        "nota_3 = float(input(\"Digite a terceira nota: \"))\n",
        "nota_4 = float(input(\"Digite a quarta nota: \"))\n",
        "media = (nota_1 + nota_2 + nota_3 + nota_4) / 4\n",
        "if media >= 6.1 and media <= 6.9:\n",
        "  print(\"Você está de recuperação\")\n",
        "  print(\"Sua média é: \", media)\n",
        "elif media < 6.1:\n",
        "  print(\"Você está reprovado\")\n",
        "  print(\"Sua média é: \", media)\n",
        "else:\n",
        "  print(\"Você está aprovado\")\n",
        "  print(\"Sua média é: \", media)"
      ],
      "metadata": {
        "colab": {
          "base_uri": "https://localhost:8080/"
        },
        "id": "jxBH4i0T4tqK",
        "outputId": "fa2829c9-5c61-40df-b0a8-6674337a4692"
      },
      "execution_count": null,
      "outputs": [
        {
          "output_type": "stream",
          "name": "stdout",
          "text": [
            "Digite a primeira nota: 4.5\n",
            "Digite a segunda nota: 5.5\n",
            "Digite a terceira nota: 2.3\n",
            "Digite a quarta nota: 10\n",
            "Você está reprovado\n",
            "Sua média é:  5.575\n"
          ]
        }
      ]
    },
    {
      "cell_type": "markdown",
      "source": [
        "#03\n",
        "\n",
        "Faça um programa que exiba apenas os números que são múltiplos de 5 e\n",
        "múltiplos de 9 em uma faixa de valores de 1000 a 5000.\n",
        "Obs: Os múltiplos de um determinado número são todos os valores que ao\n",
        "serem divididos por esse determinado número, resultam em uma divisão exata e\n",
        "sem resto, ou seja, um número inteiro."
      ],
      "metadata": {
        "id": "-r0P-Ibl41jx"
      }
    },
    {
      "cell_type": "code",
      "source": [
        "range = range(1000, 5001)\n",
        "for i in range:\n",
        "  if i % 5 == 0 and i % 9 == 0:\n",
        "    print(i)"
      ],
      "metadata": {
        "colab": {
          "base_uri": "https://localhost:8080/"
        },
        "id": "QemCyDT_46NL",
        "outputId": "d4220189-410d-4cfb-bcfb-cf6b850e66bd"
      },
      "execution_count": null,
      "outputs": [
        {
          "output_type": "stream",
          "name": "stdout",
          "text": [
            "1035\n",
            "1080\n",
            "1125\n",
            "1170\n",
            "1215\n",
            "1260\n",
            "1305\n",
            "1350\n",
            "1395\n",
            "1440\n",
            "1485\n",
            "1530\n",
            "1575\n",
            "1620\n",
            "1665\n",
            "1710\n",
            "1755\n",
            "1800\n",
            "1845\n",
            "1890\n",
            "1935\n",
            "1980\n",
            "2025\n",
            "2070\n",
            "2115\n",
            "2160\n",
            "2205\n",
            "2250\n",
            "2295\n",
            "2340\n",
            "2385\n",
            "2430\n",
            "2475\n",
            "2520\n",
            "2565\n",
            "2610\n",
            "2655\n",
            "2700\n",
            "2745\n",
            "2790\n",
            "2835\n",
            "2880\n",
            "2925\n",
            "2970\n",
            "3015\n",
            "3060\n",
            "3105\n",
            "3150\n",
            "3195\n",
            "3240\n",
            "3285\n",
            "3330\n",
            "3375\n",
            "3420\n",
            "3465\n",
            "3510\n",
            "3555\n",
            "3600\n",
            "3645\n",
            "3690\n",
            "3735\n",
            "3780\n",
            "3825\n",
            "3870\n",
            "3915\n",
            "3960\n",
            "4005\n",
            "4050\n",
            "4095\n",
            "4140\n",
            "4185\n",
            "4230\n",
            "4275\n",
            "4320\n",
            "4365\n",
            "4410\n",
            "4455\n",
            "4500\n",
            "4545\n",
            "4590\n",
            "4635\n",
            "4680\n",
            "4725\n",
            "4770\n",
            "4815\n",
            "4860\n",
            "4905\n",
            "4950\n",
            "4995\n"
          ]
        }
      ]
    },
    {
      "cell_type": "markdown",
      "source": [
        "#04\n",
        "\n",
        "Crie uma função que recebe uma string como argumento e retorna a quantidade\n",
        "de vogais (a, e, i, o, u) presentes nessa string. A função deve ser sensível a\n",
        "maiúsculas e minúsculas, ou seja, contar tanto as vogais minúsculas quanto as\n",
        "maiúsculas."
      ],
      "metadata": {
        "id": "O7N9zOsd5OFP"
      }
    },
    {
      "cell_type": "code",
      "source": [
        "palavra = input(\"Digite uma palavra: \")\n",
        "vogais = \"aeiouAEIOU\"\n",
        "contador = 0\n",
        "for letra in palavra:\n",
        "  if letra in vogais:\n",
        "    contador += 1\n",
        "print(\"A palavra tem\", contador, \"vogais\")"
      ],
      "metadata": {
        "colab": {
          "base_uri": "https://localhost:8080/"
        },
        "id": "HwMPIOVy5VnG",
        "outputId": "2e8de819-3533-47b0-887a-ee2b216c14cc"
      },
      "execution_count": null,
      "outputs": [
        {
          "output_type": "stream",
          "name": "stdout",
          "text": [
            "Digite uma palavra: pneumoultramicroscopicossilicovulcanoconiótico\n",
            "A palavra tem 20 vogais\n"
          ]
        }
      ]
    },
    {
      "cell_type": "markdown",
      "source": [
        "#05\n",
        "\n",
        "Crie um programa que calcule através de uma função a soma dos primeiros n\n",
        "números naturais (onde n é um número inteiro positivo fornecido pelo usuário).\n",
        "A soma dos primeiros n números naturais é dada pela fórmula:\n",
        "𝑆 = 𝑛(𝑛 + 1)/\n",
        "2"
      ],
      "metadata": {
        "id": "98qjBFIT54gy"
      }
    },
    {
      "cell_type": "code",
      "source": [
        "def soma_numeros_naturais(n):\n",
        "    return n * (n + 1) // 2\n",
        "\n",
        "n = int(input(\"Informe um número inteiro positivo: \"))\n",
        "\n",
        "if n > 0:\n",
        "\n",
        "    soma = soma_numeros_naturais(n)\n",
        "    print(f\"A soma dos primeiros {n} números naturais é: {soma}\")\n",
        "else:\n",
        "    print(\"Por favor, insira um número inteiro positivo.\")\n"
      ],
      "metadata": {
        "colab": {
          "base_uri": "https://localhost:8080/"
        },
        "id": "mxyr3tzo59RW",
        "outputId": "0dfee287-14f5-4880-c2e5-819419e9f65f"
      },
      "execution_count": null,
      "outputs": [
        {
          "output_type": "stream",
          "name": "stdout",
          "text": [
            "Informe um número inteiro positivo: 25\n",
            "A soma dos primeiros 25 números naturais é: 325\n"
          ]
        }
      ]
    },
    {
      "cell_type": "markdown",
      "source": [
        "#06\n",
        "\n",
        "Crie uma função que receba uma palavra (string) e retorne a palavra invertida.\n",
        "Você não pode usar funções prontas do Python para inverter a string (como [::-\n",
        "1] ou reversed())."
      ],
      "metadata": {
        "id": "smFEgFMT7GcO"
      }
    },
    {
      "source": [
        "\n",
        "def inverter_palavra(palavra):\n",
        "    palavra_invertida = \"\"\n",
        "\n",
        "\n",
        "    for i in range(len(palavra) - 1, -1, -1):\n",
        "        palavra_invertida += palavra[i]\n",
        "\n",
        "    return palavra_invertida\n",
        "\n",
        "palavra = input(\"Digite uma palavra: \")\n",
        "\n",
        "palavra_invertida = inverter_palavra(palavra)\n",
        "print(f\"A palavra invertida é: {palavra_invertida}\")\n"
      ],
      "cell_type": "code",
      "metadata": {
        "colab": {
          "base_uri": "https://localhost:8080/"
        },
        "id": "V1_RvocCAerf",
        "outputId": "b3a5d6af-7e9a-4336-b429-89a81ce809f2"
      },
      "execution_count": null,
      "outputs": [
        {
          "output_type": "stream",
          "name": "stdout",
          "text": [
            "Digite uma palavra: pneumoultramicroscopicossilicovulcanoconiótico\n",
            "A palavra invertida é: ocitóinoconacluvocilissocipocsorcimartluomuenp\n"
          ]
        }
      ]
    }
  ]
}