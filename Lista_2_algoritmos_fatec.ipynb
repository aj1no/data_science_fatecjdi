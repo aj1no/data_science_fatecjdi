{
  "nbformat": 4,
  "nbformat_minor": 0,
  "metadata": {
    "colab": {
      "provenance": [],
      "authorship_tag": "ABX9TyMNFHykVxr3Ba7LQSCpzTYY",
      "include_colab_link": true
    },
    "kernelspec": {
      "name": "python3",
      "display_name": "Python 3"
    },
    "language_info": {
      "name": "python"
    }
  },
  "cells": [
    {
      "cell_type": "markdown",
      "metadata": {
        "id": "view-in-github",
        "colab_type": "text"
      },
      "source": [
        "<a href=\"https://colab.research.google.com/github/aj1no/data_science_fatecjdi/blob/main/Lista_2_algoritmos_fatec.ipynb\" target=\"_parent\"><img src=\"https://colab.research.google.com/assets/colab-badge.svg\" alt=\"Open In Colab\"/></a>"
      ]
    },
    {
      "cell_type": "markdown",
      "source": [
        "#01\n",
        "\n",
        "\n",
        "Uma empresa quer verificar se um empregado está qualificado para a\n",
        "aposentadoria ou não. Para estar em condições, o empregado deve ter no\n",
        "mínimo 60 anos e ter trabalhado no mínimo 25 anos. Desenvolva o programa\n",
        "onde o usuário insira a idade e o tempo de trabalho e o programa informa com\n",
        "uma mensagem na tela se o usuário está qualificado para aposentadoria ou não."
      ],
      "metadata": {
        "id": "UDb5HA7M3go6"
      }
    },
    {
      "cell_type": "code",
      "source": [
        "idade = int(input(\"Digite sua idade: \"))\n",
        "tempo_de_trabalho = int(input(\"Digite seu tempo de trabalho: \"))\n",
        "if idade >= 60 and tempo_de_trabalho >= 25:\n",
        "  print(\"Você está qualificado para aposentadoria\")\n",
        "else:\n",
        "  print(\"Você não está qualificado para aposentadoria\")\n",
        "#\n"
      ],
      "metadata": {
        "colab": {
          "base_uri": "https://localhost:8080/"
        },
        "id": "4DcD-3ix3kvS",
        "outputId": "f5f8b166-36ad-4631-ea13-920d9742f3b5"
      },
      "execution_count": null,
      "outputs": [
        {
          "output_type": "stream",
          "name": "stdout",
          "text": [
            "Digite sua idade: 34\n",
            "Digite seu tempo de trabalho: 15\n",
            "Você não está qualificado para aposentadoria\n"
          ]
        }
      ]
    },
    {
      "cell_type": "markdown",
      "source": [
        "#02\n",
        "\n",
        "Faça um programa para verificar a situação de um aluno entre “recuperação”,\n",
        "“aprovado” e “reprovado”. O aluno possui 4 notas, e se sua média for entre 6.1 e\n",
        "6.9 o aluno está de recuperação. Média abaixo de 6.1 o aluno está reprovado.\n",
        "Média acima de 6.9 o aluno está aprovado."
      ],
      "metadata": {
        "id": "09xiBkOK4C1J"
      }
    },
    {
      "cell_type": "code",
      "source": [
        "nota_1 = float(input(\"Digite a primeira nota: \"))\n",
        "nota_2 = float(input(\"Digite a segunda nota: \"))\n",
        "nota_3 = float(input(\"Digite a terceira nota: \"))\n",
        "nota_4 = float(input(\"Digite a quarta nota: \"))\n",
        "media = (nota_1 + nota_2 + nota_3 + nota_4) / 4\n",
        "if media >= 6.1 and media <= 6.9:\n",
        "  print(\"Você está de recuperação\")\n",
        "  print(\"Sua média é: \", media)\n",
        "elif media < 6.1:\n",
        "  print(\"Você está reprovado\")\n",
        "  print(\"Sua média é: \", media)\n",
        "else:\n",
        "  print(\"Você está aprovado\")\n",
        "  print(\"Sua média é: \", media)"
      ],
      "metadata": {
        "colab": {
          "base_uri": "https://localhost:8080/"
        },
        "id": "jxBH4i0T4tqK",
        "outputId": "fa2829c9-5c61-40df-b0a8-6674337a4692"
      },
      "execution_count": null,
      "outputs": [
        {
          "output_type": "stream",
          "name": "stdout",
          "text": [
            "Digite a primeira nota: 4.5\n",
            "Digite a segunda nota: 5.5\n",
            "Digite a terceira nota: 2.3\n",
            "Digite a quarta nota: 10\n",
            "Você está reprovado\n",
            "Sua média é:  5.575\n"
          ]
        }
      ]
    },
    {
      "cell_type": "markdown",
      "source": [
        "#03\n",
        "\n",
        "Faça um programa que exiba apenas os números que são múltiplos de 5 e\n",
        "múltiplos de 9 em uma faixa de valores de 1000 a 5000.\n",
        "Obs: Os múltiplos de um determinado número são todos os valores que ao\n",
        "serem divididos por esse determinado número, resultam em uma divisão exata e\n",
        "sem resto, ou seja, um número inteiro."
      ],
      "metadata": {
        "id": "-r0P-Ibl41jx"
      }
    },
    {
      "cell_type": "code",
      "source": [
        "numeros = []\n",
        "\n",
        "for numero in range(1000, 5001):\n",
        "    if numero % 5 == 0 and numero % 9 == 0:\n",
        "        numeros.append(str(numero))\n",
        "\n",
        "for i in range(0, len(numeros), 10):\n",
        "    print(\", \".join(numeros[i:i+10]))\n"
      ],
      "metadata": {
        "colab": {
          "base_uri": "https://localhost:8080/"
        },
        "id": "QemCyDT_46NL",
        "outputId": "4f55dad0-e88d-4237-c52e-593983b93050"
      },
      "execution_count": 34,
      "outputs": [
        {
          "output_type": "stream",
          "name": "stdout",
          "text": [
            "1035, 1080, 1125, 1170, 1215, 1260, 1305, 1350, 1395, 1440\n",
            "1485, 1530, 1575, 1620, 1665, 1710, 1755, 1800, 1845, 1890\n",
            "1935, 1980, 2025, 2070, 2115, 2160, 2205, 2250, 2295, 2340\n",
            "2385, 2430, 2475, 2520, 2565, 2610, 2655, 2700, 2745, 2790\n",
            "2835, 2880, 2925, 2970, 3015, 3060, 3105, 3150, 3195, 3240\n",
            "3285, 3330, 3375, 3420, 3465, 3510, 3555, 3600, 3645, 3690\n",
            "3735, 3780, 3825, 3870, 3915, 3960, 4005, 4050, 4095, 4140\n",
            "4185, 4230, 4275, 4320, 4365, 4410, 4455, 4500, 4545, 4590\n",
            "4635, 4680, 4725, 4770, 4815, 4860, 4905, 4950, 4995\n"
          ]
        }
      ]
    },
    {
      "cell_type": "markdown",
      "source": [
        "#04\n",
        "\n",
        "Crie uma função que recebe uma string como argumento e retorna a quantidade\n",
        "de vogais (a, e, i, o, u) presentes nessa string. A função deve ser sensível a\n",
        "maiúsculas e minúsculas, ou seja, contar tanto as vogais minúsculas quanto as\n",
        "maiúsculas."
      ],
      "metadata": {
        "id": "O7N9zOsd5OFP"
      }
    },
    {
      "cell_type": "code",
      "source": [
        "palavra = input(\"Digite uma palavra: \")\n",
        "vogais = \"aeiouAEIOU\"\n",
        "contador = 0\n",
        "for letra in palavra:\n",
        "  if letra in vogais:\n",
        "    contador += 1\n",
        "print(\"A palavra tem\", contador, \"vogais\")"
      ],
      "metadata": {
        "colab": {
          "base_uri": "https://localhost:8080/"
        },
        "id": "HwMPIOVy5VnG",
        "outputId": "2e8de819-3533-47b0-887a-ee2b216c14cc"
      },
      "execution_count": null,
      "outputs": [
        {
          "output_type": "stream",
          "name": "stdout",
          "text": [
            "Digite uma palavra: pneumoultramicroscopicossilicovulcanoconiótico\n",
            "A palavra tem 20 vogais\n"
          ]
        }
      ]
    },
    {
      "cell_type": "markdown",
      "source": [
        "#05\n",
        "\n",
        "Crie um programa que calcule através de uma função a soma dos primeiros n\n",
        "números naturais (onde n é um número inteiro positivo fornecido pelo usuário).\n",
        "A soma dos primeiros n números naturais é dada pela fórmula:\n",
        "𝑆 = 𝑛(𝑛 + 1)/\n",
        "2"
      ],
      "metadata": {
        "id": "98qjBFIT54gy"
      }
    },
    {
      "cell_type": "code",
      "source": [
        "def soma_numeros_naturais(n):\n",
        "    return n * (n + 1) // 2\n",
        "\n",
        "n = int(input(\"Informe um número inteiro positivo: \"))\n",
        "\n",
        "if n > 0:\n",
        "\n",
        "    soma = soma_numeros_naturais(n)\n",
        "    print(f\"A soma dos primeiros {n} números naturais é: {soma}\")\n",
        "else:\n",
        "    print(\"Por favor, insira um número inteiro positivo.\")\n"
      ],
      "metadata": {
        "colab": {
          "base_uri": "https://localhost:8080/"
        },
        "id": "mxyr3tzo59RW",
        "outputId": "0dfee287-14f5-4880-c2e5-819419e9f65f"
      },
      "execution_count": null,
      "outputs": [
        {
          "output_type": "stream",
          "name": "stdout",
          "text": [
            "Informe um número inteiro positivo: 25\n",
            "A soma dos primeiros 25 números naturais é: 325\n"
          ]
        }
      ]
    },
    {
      "cell_type": "markdown",
      "source": [
        "#06\n",
        "\n",
        "Crie uma função que receba uma palavra (string) e retorne a palavra invertida.\n",
        "Você não pode usar funções prontas do Python para inverter a string (como [::-\n",
        "1] ou reversed())."
      ],
      "metadata": {
        "id": "smFEgFMT7GcO"
      }
    },
    {
      "source": [
        "\n",
        "def inverter_palavra(palavra):\n",
        "    palavra_invertida = \"\"\n",
        "\n",
        "\n",
        "    for i in range(len(palavra) - 1, -1, -1):\n",
        "        palavra_invertida += palavra[i]\n",
        "\n",
        "    return palavra_invertida\n",
        "\n",
        "palavra = input(\"Digite uma palavra: \")\n",
        "\n",
        "palavra_invertida = inverter_palavra(palavra)\n",
        "print(f\"A palavra invertida é: {palavra_invertida}\")\n"
      ],
      "cell_type": "code",
      "metadata": {
        "colab": {
          "base_uri": "https://localhost:8080/"
        },
        "id": "V1_RvocCAerf",
        "outputId": "b3a5d6af-7e9a-4336-b429-89a81ce809f2"
      },
      "execution_count": null,
      "outputs": [
        {
          "output_type": "stream",
          "name": "stdout",
          "text": [
            "Digite uma palavra: pneumoultramicroscopicossilicovulcanoconiótico\n",
            "A palavra invertida é: ocitóinoconacluvocilissocipocsorcimartluomuenp\n"
          ]
        }
      ]
    }
  ]
}