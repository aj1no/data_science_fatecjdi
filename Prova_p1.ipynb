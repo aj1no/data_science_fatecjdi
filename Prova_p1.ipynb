{
  "nbformat": 4,
  "nbformat_minor": 0,
  "metadata": {
    "colab": {
      "provenance": [],
      "authorship_tag": "ABX9TyOpcBeJCpZGluQ95eQ6Owhb",
      "include_colab_link": true
    },
    "kernelspec": {
      "name": "python3",
      "display_name": "Python 3"
    },
    "language_info": {
      "name": "python"
    }
  },
  "cells": [
    {
      "cell_type": "markdown",
      "metadata": {
        "id": "view-in-github",
        "colab_type": "text"
      },
      "source": [
        "<a href=\"https://colab.research.google.com/github/aj1no/data_science_fatecjdi/blob/main/Prova_p1.ipynb\" target=\"_parent\"><img src=\"https://colab.research.google.com/assets/colab-badge.svg\" alt=\"Open In Colab\"/></a>"
      ]
    },
    {
      "cell_type": "code",
      "execution_count": null,
      "metadata": {
        "colab": {
          "base_uri": "https://localhost:8080/"
        },
        "id": "wLoBHyNOiJsI",
        "outputId": "2edb4f8d-6cc0-47cc-bb41-bb9c0e8ef90a"
      },
      "outputs": [
        {
          "output_type": "stream",
          "name": "stdout",
          "text": [
            "A densidade de pixels para uma: 32  polegadas, são de:  115233.75\n"
          ]
        }
      ],
      "source": [
        "largura = 1920\n",
        "altura = 1080\n",
        "tela = 32\n",
        "\n",
        "ppi = (((largura**2)+(altura**2)**0.5)/tela)\n",
        "print(\"A densidade de pixels para uma:\",tela,\" polegadas, são de: \",ppi)"
      ]
    },
    {
      "cell_type": "code",
      "source": [
        "esc = input(\"Escolha a conversão entre Celsius e Fahrenheit: \")\n",
        "\n",
        "if  esc == \"celsius\":\n",
        "      cel = input(\"Digite a temperatura em fathenheit: \")\n",
        "      cel_i = int(cel)\n",
        "      fah = (cel_i*9/5)+32\n",
        "      print(\"A temperatura em Celsius é: \",fah)\n",
        "\n",
        "elif  esc == \"fahrenheit\":\n",
        "      fah = input(\"Digite a temperatura em Celsius: \")\n",
        "      fah_i = int(fah)\n",
        "      cel = (fah_i-32)*5/9\n",
        "     print(\"A temperatura em Fahrenheit é: \",cel)\n",
        "\n",
        "else:\n",
        "      print(\"Opção inválida\")\n"
      ],
      "metadata": {
        "colab": {
          "base_uri": "https://localhost:8080/"
        },
        "id": "JcYXLFQEoFol",
        "outputId": "ce1f9fc2-a5af-4c27-c075-8fc942871e06"
      },
      "execution_count": null,
      "outputs": [
        {
          "output_type": "stream",
          "name": "stdout",
          "text": [
            "Escolha a conversão entre Celsius e Fahrenheit: 0\n",
            "Opção inválida\n"
          ]
        }
      ]
    },
    {
      "cell_type": "code",
      "source": [
        "\n",
        "sal = float(input(\"Digite o salário do funcionário: \"))\n",
        "\n",
        "if sal < 1500.00:\n",
        "      aum_1 = ((sal*0.15)+sal)\n",
        "      print(\"O funcionário receberá um aumento de 15%\", aum_1)\n",
        "elif sal > 1500.00 < 2500.00:\n",
        "      aum_2 = ((sal*0.10)+sal)\n",
        "      print(\"O funcionário receberá um aumento de 10%\", aum_2)\n",
        "elif sal > 2500.00:\n",
        "      aum_3 = ((sal*0.05)+sal)\n",
        "      print(\"O funcionário receberá um aumento de 5%\", aum_3)\n",
        "else:\n",
        "      print(\"Salário inválido\")\n",
        "\n",
        "\n",
        "\n"
      ],
      "metadata": {
        "id": "Zp6pnNWLsFOr"
      },
      "execution_count": null,
      "outputs": []
    },
    {
      "cell_type": "code",
      "source": [
        "a = int(input(\"Digite o valor de A: \"))\n",
        "b = int(input(\"Digite o valor de B: \"))\n",
        "c = int(input(\"Digite o valor de C: \"))\n",
        "\n",
        "delta = (b**2)-(4*a*c)\n",
        "\n",
        "if delta < 0:\n",
        "      print(\"Esta equação não possui raízes reais\")\n",
        "\n",
        "elif delta == 0:\n",
        "      print(\"Esta equação possui apenas uma raiz real\")\n",
        "else:\n",
        "      print(\"Esta equação possui duas raízes reais\")\n",
        "\n",
        "\n"
      ],
      "metadata": {
        "colab": {
          "base_uri": "https://localhost:8080/"
        },
        "id": "rGb8DE4WusKf",
        "outputId": "d7bc681a-b008-4dfa-f33e-3353363803eb"
      },
      "execution_count": null,
      "outputs": [
        {
          "output_type": "stream",
          "name": "stdout",
          "text": [
            "Digite o valor de A: 23\n",
            "Digite o valor de B: 23\n",
            "Digite o valor de C: 10\n",
            "Esta equação não possui raízes reais\n"
          ]
        }
      ]
    },
    {
      "cell_type": "code",
      "source": [],
      "metadata": {
        "id": "sfriHZB4wQMF"
      },
      "execution_count": null,
      "outputs": []
    },
    {
      "cell_type": "code",
      "source": [],
      "metadata": {
        "id": "Sng6hgsZvzN_"
      },
      "execution_count": null,
      "outputs": []
    }
  ]
}